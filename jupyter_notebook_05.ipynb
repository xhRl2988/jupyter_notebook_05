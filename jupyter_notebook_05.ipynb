{
 "cells": [
  {
   "cell_type": "code",
   "execution_count": 12,
   "id": "4176ada7-ab3d-492d-a551-a79144f6d57b",
   "metadata": {},
   "outputs": [
    {
     "name": "stdout",
     "output_type": "stream",
     "text": [
      "=============================================\n"
     ]
    },
    {
     "name": "stdin",
     "output_type": "stream",
     "text": [
      "학번 :  31225\n",
      "성명 :  홍길동\n",
      "국어 :  80\n",
      "영어 :  80\n",
      "수학 :  80\n"
     ]
    },
    {
     "name": "stdout",
     "output_type": "stream",
     "text": [
      "================================================\n",
      "학번   성명  국어  영어  수학  합계  평균   학점\n",
      "================================================\n",
      "31225 홍길동  80   80    80   240  80.00  B학점\n",
      "================================================\n"
     ]
    }
   ],
   "source": [
    "print('=' * 45)\n",
    "num = input('학번 : ')\n",
    "name = input('성명 : ')\n",
    "kor = int(input('국어 : '))\n",
    "eng = int(input('영어 : '))\n",
    "mat = int(input('수학 : '))\n",
    "total = kor + eng + mat\n",
    "average = total / 3\n",
    "\n",
    "\n",
    "if average >= 90:\n",
    "    grade = 'A'\n",
    "elif average >= 80:\n",
    "    grade = 'B'\n",
    "elif average >= 70:\n",
    "    grade = 'C'\n",
    "elif average >= 60:\n",
    "    grade = 'D'\n",
    "else:\n",
    "    grade = 'F'\n",
    "    \n",
    "print('=' * 48)\n",
    "print('학번   성명  국어  영어  수학  합계  평균   학점')\n",
    "print('=' * 48)\n",
    "print(f'{num} {name}  {kor}   {eng}    {mat}   {total}  {average:.2f}  {grade}학점')\n",
    "print('=' * 48)\n"
   ]
  },
  {
   "cell_type": "code",
   "execution_count": null,
   "id": "77f32972-d026-4c8f-ae88-5b5a9db97d22",
   "metadata": {},
   "outputs": [],
   "source": []
  },
  {
   "cell_type": "code",
   "execution_count": null,
   "id": "02ce5ecf-45d7-4b43-9465-65a8141fc90a",
   "metadata": {},
   "outputs": [],
   "source": []
  }
 ],
 "metadata": {
  "kernelspec": {
   "display_name": "Python 3 (ipykernel)",
   "language": "python",
   "name": "python3"
  },
  "language_info": {
   "codemirror_mode": {
    "name": "ipython",
    "version": 3
   },
   "file_extension": ".py",
   "mimetype": "text/x-python",
   "name": "python",
   "nbconvert_exporter": "python",
   "pygments_lexer": "ipython3",
   "version": "3.10.7"
  }
 },
 "nbformat": 4,
 "nbformat_minor": 5
}
